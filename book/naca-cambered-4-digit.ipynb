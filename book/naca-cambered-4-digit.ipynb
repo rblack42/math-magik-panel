{
 "cells": [
  {
   "cell_type": "markdown",
   "id": "4bc0af95",
   "metadata": {},
   "source": [
    "# NACA 4-Digit Airfoils"
   ]
  },
  {
   "cell_type": "markdown",
   "id": "b1777dce",
   "metadata": {},
   "source": [
    "The NACA series of airfoils have been defined mathematically, and are used in a number of research projects. They also find use in both full-scale and model airplanes. In this article, we will develop a Python class that can generate airfoil surface point coordinates suitable for use in XFoil.\n",
    "\n",
    "For this study, we will only be considering cambered 4-digit airfoils."
   ]
  },
  {
   "cell_type": "markdown",
   "id": "e55d2393",
   "metadata": {},
   "source": [
    "The formulas for the NACA 4-digit cambered airfoils can be easily found online (see [Wikipedia](https://en.wikipedia.org/wiki/NACA_airfoil#Equation_for_a_cambered_4-digit_NACA_airfoil):"
   ]
  },
  {
   "cell_type": "markdown",
   "id": "b4ddf30c",
   "metadata": {},
   "source": [
    "## Mathematical Definition"
   ]
  },
  {
   "cell_type": "markdown",
   "id": "4e35ea64",
   "metadata": {},
   "source": [
    "### Numbering Scheme"
   ]
  },
  {
   "cell_type": "markdown",
   "id": "8418874f",
   "metadata": {},
   "source": [
    "The numbering scheme includes four digits that are coded as follows:\n",
    "\n",
    "- digit 1 is a parameter called $m$ in the equations below\n",
    "- digit 2 is the position of maximum thickness $p$ as a percentage of chord\n",
    "- digits 3-4 - defining the maximum thickness $t$\n",
    "\n",
    "if the first two digits are zero, the resulting airfoil is symmetrical about the $x$ axis (no camber)."
   ]
  },
  {
   "cell_type": "markdown",
   "id": "7bbc57c1",
   "metadata": {},
   "source": [
    "### Thickness Distribution"
   ]
  },
  {
   "cell_type": "markdown",
   "id": "616fd7fa",
   "metadata": {},
   "source": [
    "The thickness distribution is defined by a polynomial the looks like this:\n",
    "\n",
    "\\begin{equation}\n",
    "y_t = \\frac{t}{0.2}(a_0\\sqrt{x} + a_1 x + a_2 x^2 + a_3 x^3 + a_4 x^4)\n",
    "\\end{equation}\n",
    "\n",
    "where:\n",
    "\n",
    "- $y_t$ is the half-thickness of the airfoil\n",
    "- $t$ is the maximum thickness $(0 \\le t \\le 1.0)$\n",
    "- $x$ is the chordwise position $(0 \\le x\\le 1.0)$\n",
    "\n",
    "The $a_n$ values are defined as:\n",
    "\n",
    "\\begin{align}\n",
    "a_0 &= 0.2969 \\\\\n",
    "a_1 &= -0.126 \\\\\n",
    "a_2 &= -0.3516 \\\\\n",
    "a_3 &= 0.2843 \\\\\n",
    "a_4 &= -0.1015\\ \\text{or -0.1036 for closed trailing edge}\n",
    "\\end{align}"
   ]
  },
  {
   "cell_type": "markdown",
   "id": "74830b05",
   "metadata": {},
   "source": [
    "### Mean Camber Line\n",
    "\n",
    "For cambered airfoils, the *camber line* is defined as follows:"
   ]
  },
  {
   "cell_type": "markdown",
   "id": "c6bf6062",
   "metadata": {},
   "source": [
    "\\begin{equation}\n",
    "y_c=\\begin{cases}\n",
    "    \\frac{m}{p^2}(2px-x^2), & 0\\le x\\le p\\\\\n",
    "    \\frac{m}{(1-p)^2}\\left((1-2p)+2px-x^2\\right), & p\\le x\\le 1.\n",
    "  \\end{cases}\n",
    "\\end{equation}\n",
    "\n",
    "Where\n",
    "- $m$ is the maximum camber (100 m is the first of the four digits),\n",
    "- $p$ is the location of maximum camber (10 p is the second digit in the NACA xxxx description)."
   ]
  },
  {
   "cell_type": "markdown",
   "id": "68cf9c03",
   "metadata": {},
   "source": [
    "The slope of the *camber line* is eeded to locate the surface points. The local thickness is applied along a normal to the *camber line* (above and below). The equations defining the slope are:"
   ]
  },
  {
   "cell_type": "markdown",
   "id": "0286b573",
   "metadata": {},
   "source": [
    "\\begin{equation}\n",
    "\\frac{dy_c}{dx} = \\begin{cases}\n",
    "\\frac{2m}{p^2}(p-x), & 0\\le x\\le p\\\\\n",
    "\\frac{2m}{(1-p)^2}(p-x), & p\\le x\\le 1\n",
    "\\end{cases}\n",
    "\\end{equation}"
   ]
  },
  {
   "cell_type": "markdown",
   "id": "e0dfb6c9",
   "metadata": {},
   "source": [
    "### Surface Point Locations"
   ]
  },
  {
   "cell_type": "markdown",
   "id": "7cba3ad0",
   "metadata": {},
   "source": [
    "The upper and lower surface point equations s are given as follows:\n",
    "\n",
    "\\begin{align}\n",
    "x_u &= x - y_t\\sin\\theta \\\\\n",
    "y_u &= y_c + y_t\\cos\\theta\n",
    "\\end{align}\n",
    "\n",
    "\\begin{align}\n",
    "x_l &= x + y_t\\sin\\theta \\\\\n",
    "y_l &= y_c - y_t\\cos\\theta\n",
    "\\end{align}\n",
    "\n",
    "Where:\n",
    "\n",
    "\\begin{equation}\n",
    "\\theta = \\tan^{-1}\\frac{dy_c}{dx}\n",
    "\\end{equation}"
   ]
  },
  {
   "cell_type": "markdown",
   "id": "d8e811a8",
   "metadata": {},
   "source": [
    "These formulas assume a base chord of 1.0, but the generated airfoil may extend slightly beyond the end points of this chord. "
   ]
  },
  {
   "cell_type": "markdown",
   "id": "e11849d3",
   "metadata": {},
   "source": [
    "## Generating Airfoils with Python"
   ]
  },
  {
   "cell_type": "markdown",
   "id": "49751570",
   "metadata": {},
   "source": [
    "### Decoding Airfoil Parameters\n",
    "\n",
    "Each airfoil is defined using a simple 4-digit number. We will define this number as a string and decode it to produce the primary parameters needed for generating the surface coordinate points."
   ]
  },
  {
   "cell_type": "code",
   "execution_count": 103,
   "id": "ce0eb9c6",
   "metadata": {},
   "outputs": [],
   "source": [
    "airfoil = \"2412\""
   ]
  },
  {
   "cell_type": "code",
   "execution_count": 104,
   "id": "cb76baab",
   "metadata": {},
   "outputs": [],
   "source": [
    "def gen_parameters(airfoil):\n",
    "    m = int(airfoil[0])/100\n",
    "    p = int(airfoil[1])/10\n",
    "    t = int(airfoil[2:])/100\n",
    "    return m, p, t"
   ]
  },
  {
   "cell_type": "code",
   "execution_count": 105,
   "id": "67f69960",
   "metadata": {},
   "outputs": [],
   "source": [
    "m, p, t = gen_parameters(airfoil)"
   ]
  },
  {
   "cell_type": "code",
   "execution_count": 106,
   "id": "a77a0f76",
   "metadata": {},
   "outputs": [
    {
     "name": "stdout",
     "output_type": "stream",
     "text": [
      "0.02 0.4 0.12\n"
     ]
    }
   ],
   "source": [
    "print(m, p, t)"
   ]
  },
  {
   "cell_type": "markdown",
   "id": "ed9a8d86",
   "metadata": {},
   "source": [
    "### Chordwise Point Distribution"
   ]
  },
  {
   "cell_type": "markdown",
   "id": "bcc521c6",
   "metadata": {},
   "source": [
    "We will need to establish how many points along the chord we will use for the generated airfoil:"
   ]
  },
  {
   "cell_type": "code",
   "execution_count": null,
   "id": "622a7010",
   "metadata": {},
   "outputs": [],
   "source": [
    "n = 100"
   ]
  },
  {
   "cell_type": "markdown",
   "id": "e7ecd860",
   "metadata": {},
   "source": [
    "There are two common schemes used to position the points along the chord line used to define the airfoil shape:\n",
    "\n",
    "- linear - $n$ points are evenly distributed\n",
    "- cosine - $n$ points are distributed using a *cosine* function that groups points near the leading and trailing edges.\n",
    "\n",
    "EvenWe will use the **numpy** package to set this distribution. We will also use **matplotlib** to display airfoil properties:"
   ]
  },
  {
   "cell_type": "code",
   "execution_count": 36,
   "id": "38082896",
   "metadata": {},
   "outputs": [],
   "source": [
    "import math\n",
    "import numpy as np\n",
    "import matplotlib.pyplot as plt"
   ]
  },
  {
   "cell_type": "markdown",
   "id": "e24744d4",
   "metadata": {},
   "source": [
    "Now we set up a function that generates the chordwise point distribution:"
   ]
  },
  {
   "cell_type": "code",
   "execution_count": 107,
   "id": "eac0f022",
   "metadata": {},
   "outputs": [],
   "source": [
    "def gen_chord_points(n, cosine = True):\n",
    "    if cosine:\n",
    "        # distribute x points closer to nose\n",
    "        beta = np.linspace(0.0,math.pi,n+1)\n",
    "        xc = [(0.5*(1.0-math.cos(x))) for x in beta]  # cosine based spacing\n",
    "        xc = np.array(xc)\n",
    "    else:\n",
    "        # linear distribution\n",
    "        xc = np.linspace(0.0,1.0,n+1)\n",
    "    return xc"
   ]
  },
  {
   "cell_type": "code",
   "execution_count": 130,
   "id": "ce2e8b23",
   "metadata": {},
   "outputs": [
    {
     "data": {
      "text/plain": [
       "[<matplotlib.lines.Line2D at 0x10afa3580>]"
      ]
     },
     "execution_count": 130,
     "metadata": {},
     "output_type": "execute_result"
    },
    {
     "data": {
      "image/png": "[encoded data removed]",
      "text/plain": [
       "<Figure size 432x288 with 1 Axes>"
      ]
     },
     "metadata": {
      "needs_background": "light"
     },
     "output_type": "display_data"
    }
   ],
   "source": [
    "xc = np.array(gen_chord_points(n))\n",
    "xe = np.linspace(0.0,1.0,n+1)\n",
    "plt.plot(xe,xc)"
   ]
  },
  {
   "cell_type": "markdown",
   "id": "88841c70",
   "metadata": {},
   "source": [
    "The slope of this curve indicates how the points are grouped. Points will closer together near the leading and trailing edges, and more evenly spread out over the center section. This distribution can help with analytical schemes we used to assess the airfoil."
   ]
  },
  {
   "cell_type": "markdown",
   "id": "561e88ce",
   "metadata": {},
   "source": [
    "### Local Thickness\n",
    "\n",
    "Now, we set up a function that will determine the local thickness along the chord line. We provide a parameter that will control the trailing edge closing condition:"
   ]
  },
  {
   "cell_type": "code",
   "execution_count": 131,
   "id": "f3cf61eb",
   "metadata": {},
   "outputs": [],
   "source": [
    "def thickness(x, closed_te = True):\n",
    "    \"\"\"return yt array for input x array\"\"\"\n",
    "    n = len(x)\n",
    "    a0 = +0.2969\n",
    "    a1 = -0.1260\n",
    "    a2 = -0.3516\n",
    "    a3 = +0.2843\n",
    "    if closed_te:\n",
    "        a4 = -0.1036 # For finite thick TE\n",
    "    else:\n",
    "        a4 = -0.1015 # For zero thick TE\n",
    "\n",
    "    yt = 5*t*(a0*np.sqrt(x)+((((a4)*x+a3)*x+a2)*x+a1)*x)\n",
    "    return yt"
   ]
  },
  {
   "cell_type": "markdown",
   "id": "10f02ad7",
   "metadata": {},
   "source": [
    "As a check, let's plot this thickness distribution for a 2414 airfoil:"
   ]
  },
  {
   "cell_type": "code",
   "execution_count": 132,
   "id": "6e93055a",
   "metadata": {},
   "outputs": [],
   "source": [
    "yt = thickness(xc)"
   ]
  },
  {
   "cell_type": "markdown",
   "id": "e88f147b",
   "metadata": {},
   "source": [
    "Now, we set up a plotting function to display the points:"
   ]
  },
  {
   "cell_type": "code",
   "execution_count": 133,
   "id": "a40f5be8",
   "metadata": {},
   "outputs": [],
   "source": [
    "\n",
    "def plotline(x,y):\n",
    "    plt.figure(figsize=(10,1.6))\n",
    "    plt.xlim(-0.2, 1.1)\n",
    "    plt.ylim(-0.2, t + 0.1)\n",
    "    plt.axis(\"equal\")\n",
    "    plt.axis((-0.1,1.1)+plt.axis()[2:])\n",
    "    plt.plot(x,y)\n",
    "    plt.show()"
   ]
  },
  {
   "cell_type": "code",
   "execution_count": 134,
   "id": "d81eb57e",
   "metadata": {},
   "outputs": [
    {
     "data": {
      "image/png": "[encoded data removed]",
      "text/plain": [
       "<Figure size 720x115.2 with 1 Axes>"
      ]
     },
     "metadata": {
      "needs_background": "light"
     },
     "output_type": "display_data"
    }
   ],
   "source": [
    "plotline(xc,yt)"
   ]
  },
  {
   "cell_type": "markdown",
   "id": "0b387dbd",
   "metadata": {},
   "source": [
    "### Define the Camber Line"
   ]
  },
  {
   "cell_type": "code",
   "execution_count": 135,
   "id": "760f0824",
   "metadata": {},
   "outputs": [],
   "source": [
    "def get_camber_line(xc, m, p, t):\n",
    "    n = len(xc)\n",
    "    \n",
    "    # generate the slopes\n",
    "    if p == 0:\n",
    "        # symmetric airfoil\n",
    "        yc = np.zeros(n)\n",
    "    else:\n",
    "        # split the chordwise points at the max thickness point\n",
    "        x1 = [x for x in xc if x <= p]\n",
    "        x2 = [x for x in xc if x > p]\n",
    "        yc1 = [m/(p**2)*x*(2*p-x) for x in x1]\n",
    "        yc2 = [m/(1-p)**2*(1-2*p+x)*(1-x) for x in x2]\n",
    "        yc = yc1 + yc2\n",
    "\n",
    "        return yc"
   ]
  },
  {
   "cell_type": "code",
   "execution_count": 136,
   "id": "1d02a436",
   "metadata": {},
   "outputs": [
    {
     "data": {
      "image/png": "[encoded data removed]",
      "text/plain": [
       "<Figure size 720x115.2 with 1 Axes>"
      ]
     },
     "metadata": {
      "needs_background": "light"
     },
     "output_type": "display_data"
    }
   ],
   "source": [
    "yc = get_camber_line(xc, m, p, t)\n",
    "plotline(xc,yc)"
   ]
  },
  {
   "cell_type": "markdown",
   "id": "d384f696",
   "metadata": {},
   "source": [
    "### Camber Line Slopes\n",
    "\n",
    "Now we are ready to calculate the upper and lower surface values:"
   ]
  },
  {
   "cell_type": "code",
   "execution_count": 173,
   "id": "e6ec43ef",
   "metadata": {},
   "outputs": [],
   "source": [
    "def get_camber_line_slope(xc, m, p, t):\n",
    "    n = len(xc)\n",
    "    \n",
    "    # generate the slopes\n",
    "    if p == 0:\n",
    "        # symmetric airfoil\n",
    "        theta = np.zeros(n)\n",
    "    else:\n",
    "        # split the chordwise points at the max thickness point\n",
    "        x1 = [x for x in xc if x <= p]\n",
    "        x2 = [x for x in xc if x > p]\n",
    "\n",
    "        dyc1_dx = [m/(p**2)*(2*p-2*x) for x in x1]\n",
    "        dyc2_dx = [m/(1-p)**2*(2*p-2*x) for x in x2]\n",
    "        dyc_dx = dyc1_dx + dyc2_dx\n",
    "        theta = np.arctan(dyc_dx)\n",
    "        return theta"
   ]
  },
  {
   "cell_type": "code",
   "execution_count": 174,
   "id": "44959806",
   "metadata": {},
   "outputs": [
    {
     "data": {
      "image/png": "[encoded data removed]",
      "text/plain": [
       "<Figure size 720x115.2 with 1 Axes>"
      ]
     },
     "metadata": {
      "needs_background": "light"
     },
     "output_type": "display_data"
    }
   ],
   "source": [
    "theta = get_camber_line_slope(xc, m, p, t)\n",
    "plotline(xc,theta)"
   ]
  },
  {
   "cell_type": "markdown",
   "id": "50895671",
   "metadata": {},
   "source": [
    "### Generating Surface Points\n",
    "\n",
    "With the camber line and its slopes defined, we can position the surface points. These use the slopes to set the direction of the normal to the *camber line*"
   ]
  },
  {
   "cell_type": "code",
   "execution_count": 144,
   "id": "2601b99f",
   "metadata": {},
   "outputs": [],
   "source": [
    "def gen_surface(xc, yc, yt, theta):\n",
    "    xu = xc - yt*np.sin(theta)\n",
    "    yu = yc + yt*np.cos(theta)\n",
    "    xl = xc + yt*np.sin(theta)\n",
    "    yl = yc - yt*np.cos(theta)\n",
    "    return xu, yu, xl, yl"
   ]
  },
  {
   "cell_type": "code",
   "execution_count": 145,
   "id": "3562e191",
   "metadata": {},
   "outputs": [
    {
     "data": {
      "image/png": "[encoded data removed]",
      "text/plain": [
       "<Figure size 720x115.2 with 1 Axes>"
      ]
     },
     "metadata": {
      "needs_background": "light"
     },
     "output_type": "display_data"
    }
   ],
   "source": [
    "xu, yu, xl, yl = gen_surface(xc, yc, yt, theta)\n",
    "plotline(xl,yl)"
   ]
  },
  {
   "cell_type": "code",
   "execution_count": 148,
   "id": "bba7e614",
   "metadata": {},
   "outputs": [],
   "source": [
    "def plotairfoil(xu,yu, xl, yl, xc, yc):\n",
    "    plt.figure(figsize=(10,1.6))\n",
    "    plt.xlim(-0.2, 1.1)\n",
    "    plt.ylim(-0.2, t + 0.1)\n",
    "    plt.axis(\"equal\")\n",
    "    plt.axis((-0.1,1.1)+plt.axis()[2:])\n",
    "    plt.plot(xu,yu)\n",
    "    plt.plot(xc,yc)\n",
    "    plt.plot(xl,yl)\n",
    "    plt.show()"
   ]
  },
  {
   "cell_type": "code",
   "execution_count": 149,
   "id": "07594b1c",
   "metadata": {},
   "outputs": [
    {
     "data": {
      "image/png": "[encoded data removed]",
      "text/plain": [
       "<Figure size 720x115.2 with 1 Axes>"
      ]
     },
     "metadata": {
      "needs_background": "light"
     },
     "output_type": "display_data"
    }
   ],
   "source": [
    "plotairfoil(xu, yu, xl, yl, xc, yc)"
   ]
  },
  {
   "cell_type": "markdown",
   "id": "c51f61ac",
   "metadata": {},
   "source": [
    "## NACA4 Class"
   ]
  },
  {
   "cell_type": "markdown",
   "id": "f5d6bf2f",
   "metadata": {},
   "source": [
    "To complete this project, we will generate a *Python* class that includes all of this code and eliminates duplication. The class will be able to return the variious curves we generated for use in studies.\n",
    "\n",
    "Note that I need to show the complete class in one chunk, since Jupyter will not build up a class incrementally :-("
   ]
  },
  {
   "cell_type": "code",
   "execution_count": 181,
   "id": "b85f5435",
   "metadata": {},
   "outputs": [],
   "source": [
    "import numpy as np\n",
    "\n",
    "class NACA4(object):\n",
    "    \n",
    "    def __init__(self, name, npoints, closed_te = True, cosine_pts = True):\n",
    "        self.name = name\n",
    "        self.npoints = npoints\n",
    "        self.closed_te = closed_te\n",
    "        self.cosine_pts = cosine_pts\n",
    "        \n",
    "\n",
    "        \n",
    "        # decode the name\n",
    "        self.m = int(name[0])/100\n",
    "        self.p = int(name[1])/10\n",
    "        self.t = int(name[2:])/100\n",
    "        \n",
    "    def generate(self):\n",
    "        self.gen_xc_points()\n",
    "        self.gen_thickness()\n",
    "        self.gen_camber_line()\n",
    "        self.gen_camber_line_slopes()\n",
    "        self.gen_surface()\n",
    "    \n",
    "    def gen_xc_points(self):\n",
    "        if self.cosine_pts:\n",
    "            # distribute x points closer to nose\n",
    "            beta = np.linspace(0.0,math.pi,n+1)\n",
    "            self.xc = 0.5*(1.0 - np.cos(beta))  # cosine based spacing\n",
    "        else:\n",
    "            # linear distribution\n",
    "            self.xc = np.linspace(0.0,1.0,n+1)\n",
    "            \n",
    "    def get_xc_points(self):\n",
    "        return self.xc\n",
    "\n",
    "    def gen_thickness(self):\n",
    "        \"\"\"generate yt array for xc array\"\"\"\n",
    "        a0 = +0.2969\n",
    "        a1 = -0.1260\n",
    "        a2 = -0.3516\n",
    "        a3 = +0.2843\n",
    "        \n",
    "        x = self.xc\n",
    "        if self.closed_te:\n",
    "            a4 = -0.1036 # For finite thick TE\n",
    "        else:\n",
    "            a4 = -0.1015 # For zero thick TE\n",
    "\n",
    "        self.yt = 5*t*(a0*np.sqrt(x)+((((a4)*x+a3)*x+a2)*x+a1)*x)\n",
    "    \n",
    "    def get_thickness(self):\n",
    "        return self.yt\n",
    "    \n",
    "    def gen_camber_line(self):\n",
    "        if self.p == 0:\n",
    "            # symmetric airfoil\n",
    "            self.yc = np.zeros(n)\n",
    "        else:\n",
    "            # split the chordwise points at the max thickness point\n",
    "            x1 = [x for x in self.xc if x <= self.p]\n",
    "            x2 = [x for x in self.xc if x > self.p]\n",
    "            yc1 = [self.m/(self.p**2)*x*(2*self.p-x) for x in x1]\n",
    "            yc2 = [self.m/(1-self.p)**2*(1-2*self.p+x)*(1-x) for x in x2]\n",
    "            \n",
    "            # save for later\n",
    "            self.x1 = x1\n",
    "            self.x2 = x2\n",
    "            \n",
    "            self.yc = np.array(yc1 + yc2)\n",
    "        \n",
    "    def get_camber_line(self):\n",
    "        return self.yc\n",
    "    \n",
    "    def gen_camber_line_slopes(self):\n",
    "        if self.p == 0:\n",
    "            # symmetric airfoil\n",
    "            theta = np.zeros(self.npoints)\n",
    "        else:\n",
    "            dyc1_dx = [self.m/(self.p**2)*(2*p-2*x) for x in self.x1]\n",
    "            dyc2_dx = [self.m/(1-self.p)**2*(2*self.p-2*x) for x in self.x2]\n",
    "            dyc_dx = dyc1_dx + dyc2_dx\n",
    "            theta = np.arctan(dyc_dx)\n",
    "        self.theta = theta\n",
    "            \n",
    "    def get_camber_line_slopes(self):\n",
    "        return self.theta\n",
    "    \n",
    "    def gen_surface(self):\n",
    "        self.xu = self.xc - self.yt*np.sin(self.theta)\n",
    "        self.yu = self.yc + self.yt*np.cos(self.theta)\n",
    "        self.xl = self.xc + self.yt*np.sin(self.theta)\n",
    "        self.yl = self.yc - self.yt*np.cos(self.theta)\n",
    "        \n",
    "    def get_surface(self):\n",
    "        return self.xu, self.yu, self.xl, self.yl"
   ]
  },
  {
   "cell_type": "markdown",
   "id": "3502d12c",
   "metadata": {},
   "source": [
    "Let's test this class and display the airfoil again:"
   ]
  },
  {
   "cell_type": "code",
   "execution_count": 182,
   "id": "e30ce018",
   "metadata": {},
   "outputs": [
    {
     "data": {
      "image/png": "[encoded data removed]",
      "text/plain": [
       "<Figure size 720x115.2 with 1 Axes>"
      ]
     },
     "metadata": {
      "needs_background": "light"
     },
     "output_type": "display_data"
    }
   ],
   "source": [
    "af = NACA4('2412',100)\n",
    "af.generate()\n",
    "txu, tyu, txl, tyl  = af.get_surface()\n",
    "txc = af.get_xc_points()\n",
    "tyc = af.get_camber_line()\n",
    "plotairfoil(txu, tyu, txl, tyl, txc, tyc)"
   ]
  },
  {
   "cell_type": "code",
   "execution_count": null,
   "id": "0c103b24",
   "metadata": {},
   "outputs": [],
   "source": []
  }
 ],
 "metadata": {
  "kernelspec": {
   "display_name": "Python 3 (ipykernel)",
   "language": "python",
   "name": "python3"
  },
  "language_info": {
   "codemirror_mode": {
    "name": "ipython",
    "version": 3
   },
   "file_extension": ".py",
   "mimetype": "text/x-python",
   "name": "python",
   "nbconvert_exporter": "python",
   "pygments_lexer": "ipython3",
   "version": "3.10.8"
  },
  "toc": {
   "base_numbering": 1,
   "nav_menu": {},
   "number_sections": true,
   "sideBar": true,
   "skip_h1_title": false,
   "title_cell": "Table of Contents",
   "title_sidebar": "Contents",
   "toc_cell": false,
   "toc_position": {},
   "toc_section_display": true,
   "toc_window_display": false
  },
  "varInspector": {
   "cols": {
    "lenName": 16,
    "lenType": 16,
    "lenVar": 40
   },
   "kernels_config": {
    "python": {
     "delete_cmd_postfix": "",
     "delete_cmd_prefix": "del ",
     "library": "var_list.py",
     "varRefreshCmd": "print(var_dic_list())"
    },
    "r": {
     "delete_cmd_postfix": ") ",
     "delete_cmd_prefix": "rm(",
     "library": "var_list.r",
     "varRefreshCmd": "cat(var_dic_list()) "
    }
   },
   "types_to_exclude": [
    "module",
    "function",
    "builtin_function_or_method",
    "instance",
    "_Feature"
   ],
   "window_display": false
  }
 },
 "nbformat": 4,
 "nbformat_minor": 5
}
