{
 "cells": [
  {
   "cell_type": "markdown",
   "id": "05439139",
   "metadata": {},
   "source": [
    "# Gausian Elimination"
   ]
  },
  {
   "cell_type": "code",
   "execution_count": null,
   "id": "8d053155",
   "metadata": {},
   "outputs": [],
   "source": []
  },
  {
   "cell_type": "markdown",
   "id": "c3187c8d",
   "metadata": {},
   "source": [
    "Given a linear system of $n$ equations in $n$ unknowns, *Gausian Elimination* can deliver the solution.\n",
    "\n",
    "\n",
    "Here is an example problem:\n",
    "\n",
    "\\begin{align}\n",
    "x + y + z &= 9 \\\\\n",
    "2x -3y + 4z &= 13 \\\\\n",
    "3x + 4y + 5x &= 40\n",
    "\\end{align}\n",
    "\n",
    "We will solve this system of equations by first creating an array containing both the coefficients and right-hand-side values. We will use **numpy** to set this up:"
   ]
  },
  {
   "cell_type": "code",
   "execution_count": 3,
   "id": "d72dba9c",
   "metadata": {},
   "outputs": [],
   "source": [
    "import numpy as np"
   ]
  },
  {
   "cell_type": "code",
   "execution_count": 8,
   "id": "beeb7fc1",
   "metadata": {},
   "outputs": [],
   "source": [
    "n = 3\n",
    "coeffs = np.zeros((n, n+1))"
   ]
  },
  {
   "cell_type": "markdown",
   "id": "49de3f53",
   "metadata": {},
   "source": [
    "*Numpy* creates an $nxn+1$ array initialized with all zero values. Next, we load the data:"
   ]
  },
  {
   "cell_type": "code",
   "execution_count": 9,
   "id": "2b5dde15",
   "metadata": {},
   "outputs": [
    {
     "data": {
      "text/plain": [
       "array([[ 1.,  1.,  1.,  9.],\n",
       "       [ 2., -3.,  4., 13.],\n",
       "       [ 3.,  4.,  5., 40.]])"
      ]
     },
     "execution_count": 9,
     "metadata": {},
     "output_type": "execute_result"
    }
   ],
   "source": [
    "coeffs[0][0] = 1\n",
    "coeffs[0][1] = 1\n",
    "coeffs[0][2] = 1\n",
    "coeffs[0][3] = 9\n",
    "coeffs[1][0] = 2\n",
    "coeffs[1][1] = -3\n",
    "coeffs[1][2] = 4\n",
    "coeffs[1][3] = 13\n",
    "coeffs[2][0] = 3\n",
    "coeffs[2][1] = 4\n",
    "coeffs[2][2] = 5\n",
    "coeffs[2][3] =40\n",
    "coeffs"
   ]
  },
  {
   "cell_type": "markdown",
   "id": "77583cef",
   "metadata": {},
   "source": [
    "The basic scheme we are going to use involves applying some basic operations on one row in this matrix, then combining that row with the row below. The goal in these operations is to drive the matrix of left-hand side values to something called *upper-diagonal form* where all values below the diagonal are zero.\n",
    "\n",
    "This process is going to destroy the original matrix, so we will work on a copy of the matrix in this process.\n",
    "\n",
    "The first operation we apply basically scaled the elements in the first row so that the number on the diagonal has a value of one. We do this by dividing each element in the row by the value on the diagonal. Of course, that diagonal must not be zero, so we need to check that.\n",
    "\n",
    "In the next operation we are going to subtract this row from the row below"
   ]
  },
  {
   "cell_type": "code",
   "execution_count": 10,
   "id": "61993e91",
   "metadata": {
    "scrolled": true
   },
   "outputs": [],
   "source": [
    "a = np.copy(coeffs)\n",
    "for i in range(n):\n",
    "    # check for zero diagonal values - stop the process if zero\n",
    "    if a[i][i] == 0.0:\n",
    "        print('Divide by zero detected!')\n",
    "        break\n",
    "    \n",
    "    # scale the elements on the rows below this one.\n",
    "    for j in range(i+1,n):\n",
    "        # calculate the scale factor needed for the next row\n",
    "        scale = a[j][i]/a[i][i]\n",
    "        \n",
    "        # subtract using scale on the elements on this row\n",
    "        for k in range(n+1):\n",
    "            a[j][k] = a[j][k] - scale * a[i][k]"
   ]
  },
  {
   "cell_type": "markdown",
   "id": "740d7e76",
   "metadata": {},
   "source": [
    "This process should drive the array into *upper-diagonal* form:"
   ]
  },
  {
   "cell_type": "code",
   "execution_count": 67,
   "id": "f50b6125",
   "metadata": {},
   "outputs": [
    {
     "data": {
      "text/plain": [
       "array([[ 1. ,  1. ,  1. ,  9. ],\n",
       "       [ 0. , -5. ,  2. , -5. ],\n",
       "       [ 0. ,  0. ,  2.4, 12. ]])"
      ]
     },
     "execution_count": 67,
     "metadata": {},
     "output_type": "execute_result"
    }
   ],
   "source": [
    "a"
   ]
  },
  {
   "cell_type": "markdown",
   "id": "59e82145",
   "metadata": {},
   "source": [
    "Once n this form, the solution can be obtained by working from the bottom up. The last row provides the answer for the left most unknown directly. We substitute this into the row above, eliminating the unknown from below leaving another simple solution. \n",
    "\n",
    "We will build the solution in a new array:"
   ]
  },
  {
   "cell_type": "code",
   "execution_count": 12,
   "id": "6763206c",
   "metadata": {},
   "outputs": [],
   "source": [
    "x = np.zeros(n)"
   ]
  },
  {
   "cell_type": "markdown",
   "id": "79251a4b",
   "metadata": {},
   "source": [
    "The correct value for the rightmost unknown is sitting in the **a** array, use that to solve for the next unknown to the left on the row above. "
   ]
  },
  {
   "cell_type": "code",
   "execution_count": 14,
   "id": "ed4d4bdc",
   "metadata": {},
   "outputs": [],
   "source": [
    "x[n-1] = a[n-1][n]/a[n-1][n-1]"
   ]
  },
  {
   "cell_type": "markdown",
   "id": "1d5ce94f",
   "metadata": {},
   "source": [
    "Now, we loop over the remaining rows, moving upward. On each row, we use the new *known* values to eliminate all unknowns to the right. Note that we only need to work on elements to the right of the diagonal, since those to the left are all zero."
   ]
  },
  {
   "cell_type": "code",
   "execution_count": 15,
   "id": "9c736f4a",
   "metadata": {
    "scrolled": true
   },
   "outputs": [],
   "source": [
    "for i in range(n-2,-1,-1):\n",
    "    x[i] = a[i][n]\n",
    "    \n",
    "    for j in range(i+1,n):\n",
    "        x[i] = x[i] - a[i][j]*x[j]\n",
    "    x[i] = x[i]/a[i][i]"
   ]
  },
  {
   "cell_type": "code",
   "execution_count": 16,
   "id": "0ecd00ae",
   "metadata": {},
   "outputs": [
    {
     "data": {
      "text/plain": [
       "array([1., 3., 5.])"
      ]
     },
     "execution_count": 16,
     "metadata": {},
     "output_type": "execute_result"
    }
   ],
   "source": [
    "x"
   ]
  },
  {
   "cell_type": "markdown",
   "id": "45efc4dc",
   "metadata": {},
   "source": [
    "We can package all of this in a simple function that takes the coefficient array as a parameter, and returns the solution vector"
   ]
  },
  {
   "cell_type": "code",
   "execution_count": 28,
   "id": "b7bc74a3",
   "metadata": {},
   "outputs": [],
   "source": [
    "import numpy as np\n",
    "\n",
    "def gauss(coeffs):\n",
    "    a = np.copy(coeffs)\n",
    "    n = len(a)\n",
    "    # drive to upper-diagonal form\n",
    "    for i in range(n):\n",
    "        if a[i][i] == 0.0:\n",
    "            print('Divide by zero detected!')\n",
    "            break\n",
    "        for j in range(i+1,n):\n",
    "            scale = a[j][i]/a[i][i]\n",
    "            for k in range(n+1):\n",
    "                a[j][k] = a[j][k] - scale * a[i][k]\n",
    "    # backfill\n",
    "    x = np.zeros(n)\n",
    "    x[n-1] = a[n-1][n]/a[n-1][n-1]\n",
    "    for i in range(n-2,-1,-1):\n",
    "        x[i] = a[i][n]\n",
    "        for j in range(i+1,n):\n",
    "            x[i] = x[i] - a[i][j]*x[j]\n",
    "        x[i] = x[i]/a[i][i]\n",
    "    return x"
   ]
  },
  {
   "cell_type": "code",
   "execution_count": 29,
   "id": "857e5f08",
   "metadata": {},
   "outputs": [],
   "source": [
    "sol = gauss(coeffs)"
   ]
  },
  {
   "cell_type": "code",
   "execution_count": 30,
   "id": "4d956609",
   "metadata": {},
   "outputs": [
    {
     "data": {
      "text/plain": [
       "array([[ 1. ,  1. ,  1. ,  9. ],\n",
       "       [ 0. , -5. ,  2. , -5. ],\n",
       "       [ 0. ,  0. ,  2.4, 12. ]])"
      ]
     },
     "execution_count": 30,
     "metadata": {},
     "output_type": "execute_result"
    }
   ],
   "source": [
    "a"
   ]
  },
  {
   "cell_type": "code",
   "execution_count": 32,
   "id": "159f8b62",
   "metadata": {},
   "outputs": [
    {
     "data": {
      "text/plain": [
       "array([[ 1.,  1.,  1.,  9.],\n",
       "       [ 2., -3.,  4., 13.],\n",
       "       [ 3.,  4.,  5., 40.]])"
      ]
     },
     "execution_count": 32,
     "metadata": {},
     "output_type": "execute_result"
    }
   ],
   "source": [
    "coeffs"
   ]
  },
  {
   "cell_type": "code",
   "execution_count": 33,
   "id": "84e30701",
   "metadata": {},
   "outputs": [
    {
     "data": {
      "text/plain": [
       "array([1., 3., 5.])"
      ]
     },
     "execution_count": 33,
     "metadata": {},
     "output_type": "execute_result"
    }
   ],
   "source": [
    "sol"
   ]
  },
  {
   "cell_type": "code",
   "execution_count": 34,
   "id": "3a122637",
   "metadata": {},
   "outputs": [
    {
     "name": "stdout",
     "output_type": "stream",
     "text": [
      "Writing pygauss.py\n"
     ]
    }
   ],
   "source": [
    "%%writefile pygauss.py\n",
    "def gauss(coeffs):\n",
    "    a = np.copy(coeffs)\n",
    "    n = len(a)\n",
    "    # drive to upper-diagonal form\n",
    "    for i in range(n):\n",
    "        if a[i][i] == 0.0:\n",
    "            print('Divide by zero detected!')\n",
    "            break\n",
    "        for j in range(i+1,n):\n",
    "            scale = a[j][i]/a[i][i]\n",
    "            for k in range(n+1):\n",
    "                a[j][k] = a[j][k] - scale * a[i][k]\n",
    "    # backfill\n",
    "    x = np.zeros(n)\n",
    "    x[n-1] = a[n-1][n]/a[n-1][n-1]\n",
    "    for i in range(n-2,-1,-1):\n",
    "        x[i] = a[i][n]\n",
    "        for j in range(i+1,n):\n",
    "            x[i] = x[i] - a[i][j]*x[j]\n",
    "        x[i] = x[i]/a[i][i]\n",
    "    return x"
   ]
  },
  {
   "cell_type": "code",
   "execution_count": null,
   "id": "9ea839a6",
   "metadata": {},
   "outputs": [],
   "source": []
  }
 ],
 "metadata": {
  "kernelspec": {
   "display_name": "Python 3 (ipykernel)",
   "language": "python",
   "name": "python3"
  },
  "language_info": {
   "codemirror_mode": {
    "name": "ipython",
    "version": 3
   },
   "file_extension": ".py",
   "mimetype": "text/x-python",
   "name": "python",
   "nbconvert_exporter": "python",
   "pygments_lexer": "ipython3",
   "version": "3.10.8"
  },
  "toc": {
   "base_numbering": 1,
   "nav_menu": {},
   "number_sections": true,
   "sideBar": true,
   "skip_h1_title": false,
   "title_cell": "Table of Contents",
   "title_sidebar": "Contents",
   "toc_cell": false,
   "toc_position": {},
   "toc_section_display": true,
   "toc_window_display": false
  },
  "varInspector": {
   "cols": {
    "lenName": 16,
    "lenType": 16,
    "lenVar": 40
   },
   "kernels_config": {
    "python": {
     "delete_cmd_postfix": "",
     "delete_cmd_prefix": "del ",
     "library": "var_list.py",
     "varRefreshCmd": "print(var_dic_list())"
    },
    "r": {
     "delete_cmd_postfix": ") ",
     "delete_cmd_prefix": "rm(",
     "library": "var_list.r",
     "varRefreshCmd": "cat(var_dic_list()) "
    }
   },
   "types_to_exclude": [
    "module",
    "function",
    "builtin_function_or_method",
    "instance",
    "_Feature"
   ],
   "window_display": false
  }
 },
 "nbformat": 4,
 "nbformat_minor": 5
}
