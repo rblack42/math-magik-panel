{
 "cells": [
  {
   "cell_type": "markdown",
   "id": "10befd9b",
   "metadata": {},
   "source": [
    "# 2D Airfoil Panel Method"
   ]
  },
  {
   "cell_type": "markdown",
   "id": "6475b992",
   "metadata": {},
   "source": [
    "Reference: https://modern-fortran-in-science-and-technology.readthedocs.io/en/latest/index.html#"
   ]
  },
  {
   "cell_type": "markdown",
   "id": "2fbbc0f8",
   "metadata": {},
   "source": [
    "In the early days of aeronautical research, long before computers took over the world, trying to figure out the math behind flight was the hot topic. Names like [Ludwig Prandtl](https://en.wikipedia.org/wiki/Ludwig_Prandtl) and [Hermann Glauert](https://en.wikipedia.org/wiki/Hermann_Glauert) were hard at work trying to uncover techniques for predicting how airfoils and wings might perform. The theories they developed can even help us understand how propellers will work. "
   ]
  },
  {
   "cell_type": "markdown",
   "id": "54d2372b",
   "metadata": {},
   "source": [
    "When I decided I was going to figure out how things could fly (I was none years old then), I had no idea how important math would be on my own journey. Fast forward a few years (Ok, a lot of years) I am still on that quest. As a retired Aerospace Engineer and Computer Scientist, I am revisiting this early theory with help from modern computer tools. In tis paper, we will explore predicting airfoil performance and see what we can do to analyze simple propellers. All of this work is part of my [Math Magik](https://rblack42.github.io/math-magik) project I started a few years ago to develop tools for analyzing the flight performance of indoor rubber powered models. If you want to follow along on this project, you will need a personal computer and some be willing to install some simple programs. If the thought of digging into math freightens you, fear not - we will let the computer do all of the hard math stuff! A more detailed version of this article can be found online at [math=magik-panel](https://rblack42.github.io/math-magik-panel)."
   ]
  },
  {
   "cell_type": "code",
   "execution_count": null,
   "id": "a2b2d6c8",
   "metadata": {},
   "outputs": [],
   "source": []
  }
 ],
 "metadata": {
  "kernelspec": {
   "display_name": "Python 3 (ipykernel)",
   "language": "python",
   "name": "python3"
  },
  "language_info": {
   "codemirror_mode": {
    "name": "ipython",
    "version": 3
   },
   "file_extension": ".py",
   "mimetype": "text/x-python",
   "name": "python",
   "nbconvert_exporter": "python",
   "pygments_lexer": "ipython3",
   "version": "3.10.2"
  },
  "toc": {
   "base_numbering": 1,
   "nav_menu": {},
   "number_sections": true,
   "sideBar": true,
   "skip_h1_title": false,
   "title_cell": "Table of Contents",
   "title_sidebar": "Contents",
   "toc_cell": false,
   "toc_position": {},
   "toc_section_display": true,
   "toc_window_display": false
  },
  "varInspector": {
   "cols": {
    "lenName": 16,
    "lenType": 16,
    "lenVar": 40
   },
   "kernels_config": {
    "python": {
     "delete_cmd_postfix": "",
     "delete_cmd_prefix": "del ",
     "library": "var_list.py",
     "varRefreshCmd": "print(var_dic_list())"
    },
    "r": {
     "delete_cmd_postfix": ") ",
     "delete_cmd_prefix": "rm(",
     "library": "var_list.r",
     "varRefreshCmd": "cat(var_dic_list()) "
    }
   },
   "types_to_exclude": [
    "module",
    "function",
    "builtin_function_or_method",
    "instance",
    "_Feature"
   ],
   "window_display": false
  }
 },
 "nbformat": 4,
 "nbformat_minor": 5
}
